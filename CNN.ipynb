{
 "cells": [
  {
   "cell_type": "code",
   "execution_count": 3,
   "metadata": {},
   "outputs": [
    {
     "name": "stdout",
     "output_type": "stream",
     "text": [
      "Train on 22451 samples, validate on 2495 samples\n",
      "Epoch 1/8\n",
      "22451/22451 [==============================] - 103s 5ms/sample - loss: 0.6661 - acc: 0.5884 - val_loss: 0.7651 - val_acc: 0.5780\n",
      "Epoch 2/8\n",
      "22451/22451 [==============================] - 102s 5ms/sample - loss: 0.5531 - acc: 0.7151 - val_loss: 0.6977 - val_acc: 0.5984\n",
      "Epoch 3/8\n",
      "22451/22451 [==============================] - 102s 5ms/sample - loss: 0.4568 - acc: 0.7839 - val_loss: 0.5118 - val_acc: 0.7471\n",
      "Epoch 4/8\n",
      "22451/22451 [==============================] - 102s 5ms/sample - loss: 0.3904 - acc: 0.8202 - val_loss: 0.4359 - val_acc: 0.7920\n",
      "Epoch 5/8\n",
      "22451/22451 [==============================] - 103s 5ms/sample - loss: 0.3296 - acc: 0.8547 - val_loss: 0.3840 - val_acc: 0.8224\n",
      "Epoch 6/8\n",
      "22451/22451 [==============================] - 102s 5ms/sample - loss: 0.2680 - acc: 0.8841 - val_loss: 0.3148 - val_acc: 0.8533\n",
      "Epoch 7/8\n",
      "22451/22451 [==============================] - 102s 5ms/sample - loss: 0.2067 - acc: 0.9133 - val_loss: 0.4170 - val_acc: 0.8273\n",
      "Epoch 8/8\n",
      "22451/22451 [==============================] - 102s 5ms/sample - loss: 0.1510 - acc: 0.9393 - val_loss: 0.5704 - val_acc: 0.7964\n"
     ]
    },
    {
     "data": {
      "text/plain": [
       "<tensorflow.python.keras.callbacks.History at 0x1c9158b9d08>"
      ]
     },
     "execution_count": 3,
     "metadata": {},
     "output_type": "execute_result"
    }
   ],
   "source": [
    "import tensorflow as tf\n",
    "from tensorflow.keras.datasets import cifar10\n",
    "from tensorflow.keras.preprocessing.image import ImageDataGenerator\n",
    "from tensorflow.keras.models import Sequential\n",
    "from tensorflow.keras.layers import Dense, Dropout, Activation, Flatten\n",
    "from tensorflow.keras.layers import Conv2D, MaxPooling2D\n",
    "\n",
    "import pickle\n",
    "\n",
    "pickle_in = open(\"X.pickle\",\"rb\")\n",
    "X = pickle.load(pickle_in)\n",
    "\n",
    "pickle_in = open(\"y.pickle\",\"rb\")\n",
    "Y = pickle.load(pickle_in)\n",
    "\n",
    "X = X/255.0\n",
    "\n",
    "model = Sequential()\n",
    "\n",
    "model.add(Conv2D(256, (3, 3), input_shape=X.shape[1:]))\n",
    "model.add(Activation('relu'))\n",
    "model.add(MaxPooling2D(pool_size=(2, 2)))\n",
    "\n",
    "model.add(Conv2D(256, (3, 3)))\n",
    "model.add(Activation('relu'))\n",
    "model.add(MaxPooling2D(pool_size=(2, 2)))\n",
    "\n",
    "model.add(Conv2D(256, (3, 3)))\n",
    "model.add(Activation('relu'))\n",
    "model.add(MaxPooling2D(pool_size=(2, 2)))\n",
    "\n",
    "model.add(Flatten())\n",
    "\n",
    "model.add(Dense(64))\n",
    "model.add(Activation('relu'))\n",
    "\n",
    "model.add(Dense(1))\n",
    "model.add(Activation('sigmoid'))\n",
    "\n",
    "model.compile(loss='binary_crossentropy',\n",
    "              optimizer='adam',\n",
    "              metrics=['accuracy'])\n",
    "\n",
    "model.fit(X, Y, batch_size=32, epochs=8, validation_split=0.1)"
   ]
  },
  {
   "cell_type": "code",
   "execution_count": null,
   "metadata": {},
   "outputs": [],
   "source": []
  },
  {
   "cell_type": "code",
   "execution_count": null,
   "metadata": {},
   "outputs": [],
   "source": []
  }
 ],
 "metadata": {
  "kernelspec": {
   "display_name": "Python 3",
   "language": "python",
   "name": "python3"
  },
  "language_info": {
   "codemirror_mode": {
    "name": "ipython",
    "version": 3
   },
   "file_extension": ".py",
   "mimetype": "text/x-python",
   "name": "python",
   "nbconvert_exporter": "python",
   "pygments_lexer": "ipython3",
   "version": "3.7.4"
  }
 },
 "nbformat": 4,
 "nbformat_minor": 2
}
